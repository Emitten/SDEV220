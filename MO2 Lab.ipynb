{
 "cells": [
  {
   "cell_type": "code",
   "execution_count": 6,
   "id": "8cde6d79",
   "metadata": {
    "scrolled": true
   },
   "outputs": [
    {
     "name": "stdout",
     "output_type": "stream",
     "text": [
      "Please enter the student's last name: ZZZ\n"
     ]
    }
   ],
   "source": [
    "#Evan Mitten\n",
    "#MO2 Lab\n",
    "#Calculate GPA\n",
    "\n",
    "last_name = input(\"Please enter the student's last name: \")\n",
    "\n",
    "while (last_name != 'ZZZ'):\n",
    "\n",
    "    first_name = input(\"Plase enter the student's first name: \")\n",
    "    gpa = float(input(\"Please enter the student's GPA: \"))\n",
    "\n",
    "    if (gpa >= 3.5):\n",
    "        print(\"This student has made the dean's list\")\n",
    "    elif (gpa >= 3.25 and gpa < 3.5):\n",
    "        print(\"This student has made the honor roll\")\n",
    "        \n",
    "    last_name = input(\"Please enter the student's last name: \")\n",
    "    \n"
   ]
  },
  {
   "cell_type": "code",
   "execution_count": null,
   "id": "0bdd5af3",
   "metadata": {},
   "outputs": [],
   "source": []
  }
 ],
 "metadata": {
  "kernelspec": {
   "display_name": "Python 3 (ipykernel)",
   "language": "python",
   "name": "python3"
  },
  "language_info": {
   "codemirror_mode": {
    "name": "ipython",
    "version": 3
   },
   "file_extension": ".py",
   "mimetype": "text/x-python",
   "name": "python",
   "nbconvert_exporter": "python",
   "pygments_lexer": "ipython3",
   "version": "3.9.13"
  }
 },
 "nbformat": 4,
 "nbformat_minor": 5
}

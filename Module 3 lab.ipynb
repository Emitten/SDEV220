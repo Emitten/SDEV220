{
 "cells": [
  {
   "cell_type": "code",
   "execution_count": 35,
   "id": "f78c2ef0",
   "metadata": {
    "scrolled": true
   },
   "outputs": [
    {
     "name": "stdout",
     "output_type": "stream",
     "text": [
      "Please enter vehicle type: car\n",
      "What year was car manufactured? 2010\n",
      "Please enter the make of car: ford\n",
      "Please enter the model of car: escape\n",
      "How many doors does car have? Valid answers are 2 or 4: 3\n",
      "How many doors does car have? Valid answers are 2 or 4: 7\n",
      "How many doors does car have? Valid answers are 2 or 4: 8\n",
      "How many doors does car have? Valid answers are 2 or 4: 9\n",
      "How many doors does car have? Valid answers are 2 or 4: 2\n",
      "What type of roof does car have? Valif answers are solid or sun. gd\n",
      "What type of roof does car have? Valid types are solid or sun: dfgdg\n",
      "What type of roof does car have? Valid types are solid or sun: solid\n",
      "Vehicle Type: car\n",
      "Vehicle Year: 2010\n",
      "Vehicle Make: ford\n",
      "Vehicle Model: escape\n",
      "Vehicle Doors: 2\n",
      "Vehicle Roof: solid\n"
     ]
    }
   ],
   "source": [
    "class Vehicle:\n",
    "    def __init__(self, vehicle_type):\n",
    "        self.type = vehicle_type\n",
    "\n",
    "vehicle_type = input(\"Please enter vehicle type: \")\n",
    "    \n",
    "class Automobile(Vehicle):\n",
    "    def __init__(self, vehicle_type, car_year, car_make, car_model, car_doors, car_roof):\n",
    "        Vehicle.__init__(self, vehicle_type)\n",
    "        self.year = car_year\n",
    "        self.make = car_make\n",
    "        self.model = car_model\n",
    "        self.doors = car_doors\n",
    "        self.roof = car_roof\n",
    "\n",
    "car_year = input(f\"What year was {vehicle_type} manufactured? \")\n",
    "car_make = input(f\"Please enter the make of {vehicle_type}: \")\n",
    "car_model = input(f\"Please enter the model of {vehicle_type}: \")\n",
    "car_doors = input(f\"How many doors does {vehicle_type} have? Valid answers are 2 or 4: \")\n",
    "\n",
    "while car_doors != \"2\" or \"4\":\n",
    "    if car_doors == \"2\":\n",
    "        break\n",
    "    elif car_doors == \"4\":\n",
    "        break\n",
    "    else:\n",
    "        car_doors = input(f\"How many doors does {vehicle_type} have? Valid answers are 2 or 4: \")\n",
    "        \n",
    "car_roof = input(f\"What type of roof does {vehicle_type} have? Valid answers are solid or sun. \")                      \n",
    "while car_roof != \"solid\" or \"sun\":\n",
    "    if car_roof == \"solid\":\n",
    "        break\n",
    "    elif car_roof == \"sun\":\n",
    "        break\n",
    "    else:\n",
    "        car_roof = input(f\"What type of roof does {vehicle_type} have? Valid types are solid or sun: \")\n",
    "\n",
    "print(\"Vehicle Type: \" + vehicle_type, \"Vehicle Year: \" + car_year, \"Vehicle Make: \" + car_make, \"Vehicle Model: \" + car_model, \"Vehicle Doors: \" + car_doors, \"Vehicle Roof: \" + car_roof, sep = '\\n')"
   ]
  }
 ],
 "metadata": {
  "kernelspec": {
   "display_name": "Python 3 (ipykernel)",
   "language": "python",
   "name": "python3"
  },
  "language_info": {
   "codemirror_mode": {
    "name": "ipython",
    "version": 3
   },
   "file_extension": ".py",
   "mimetype": "text/x-python",
   "name": "python",
   "nbconvert_exporter": "python",
   "pygments_lexer": "ipython3",
   "version": "3.9.13"
  }
 },
 "nbformat": 4,
 "nbformat_minor": 5
}

{
 "cells": [
  {
   "cell_type": "code",
   "execution_count": 2,
   "id": "9e1565fe",
   "metadata": {
    "scrolled": true
   },
   "outputs": [],
   "source": [
    "def vol(rad):\n",
    "    return (4/3) * (3.14) * (rad**3)"
   ]
  },
  {
   "cell_type": "code",
   "execution_count": 3,
   "id": "3caf2e2a",
   "metadata": {},
   "outputs": [
    {
     "data": {
      "text/plain": [
       "33.49333333333333"
      ]
     },
     "execution_count": 3,
     "metadata": {},
     "output_type": "execute_result"
    }
   ],
   "source": [
    "vol (2)"
   ]
  },
  {
   "cell_type": "code",
   "execution_count": 6,
   "id": "05bafc18",
   "metadata": {},
   "outputs": [],
   "source": [
    "def ran_check(num, low, high):\n",
    "    if num in range (low, high+1):\n",
    "        print(f\"{num} is in range of {low} and {high}\")\n",
    "    else:\n",
    "        print(\"Not in range\")"
   ]
  },
  {
   "cell_type": "code",
   "execution_count": 8,
   "id": "8bedcc5a",
   "metadata": {
    "scrolled": true
   },
   "outputs": [
    {
     "name": "stdout",
     "output_type": "stream",
     "text": [
      "5 is in range of 2 and 7\n"
     ]
    }
   ],
   "source": [
    "ran_check(5, 2, 7)"
   ]
  },
  {
   "cell_type": "code",
   "execution_count": 12,
   "id": "d44c37e9",
   "metadata": {},
   "outputs": [],
   "source": [
    "def up_low(s):\n",
    "    lowercase = 0\n",
    "    uppercase = 0\n",
    "    \n",
    "    for char in s:\n",
    "        if char.isupper():\n",
    "            uppercase += 1\n",
    "        elif char.islower():\n",
    "            lowercase += 1\n",
    "        else:\n",
    "            pass\n",
    "    print(f\"String: \")\n",
    "    print(f\"Uppercase letters: {uppercase}\")\n",
    "    print(f\"Lowercase letters: {lowercase}\")"
   ]
  },
  {
   "cell_type": "code",
   "execution_count": 13,
   "id": "c7fb4c23",
   "metadata": {
    "scrolled": true
   },
   "outputs": [
    {
     "name": "stdout",
     "output_type": "stream",
     "text": [
      "String: \n",
      "Uppercase letters: 5\n",
      "Lowercase letters: 19\n"
     ]
    }
   ],
   "source": [
    "s = \"Hello, how are YoU doing TodAy?\"\n",
    "up_low(s)"
   ]
  },
  {
   "cell_type": "code",
   "execution_count": 14,
   "id": "d2988b57",
   "metadata": {},
   "outputs": [],
   "source": [
    "def unique_list(lst):\n",
    "    return list(set(lst))"
   ]
  },
  {
   "cell_type": "code",
   "execution_count": 15,
   "id": "3c99cb3a",
   "metadata": {},
   "outputs": [
    {
     "data": {
      "text/plain": [
       "[1, 2, 3, 4, 5]"
      ]
     },
     "execution_count": 15,
     "metadata": {},
     "output_type": "execute_result"
    }
   ],
   "source": [
    "unique_list([1, 1, 1, 1, 2, 2, 3, 3, 3, 3, 4, 5])"
   ]
  },
  {
   "cell_type": "code",
   "execution_count": 16,
   "id": "39213028",
   "metadata": {},
   "outputs": [],
   "source": [
    "def multiply(numbers):\n",
    "    total = 1\n",
    "    for num in numbers:\n",
    "        total = total * num\n",
    "    return total"
   ]
  },
  {
   "cell_type": "code",
   "execution_count": 17,
   "id": "3931bb48",
   "metadata": {},
   "outputs": [
    {
     "data": {
      "text/plain": [
       "-24"
      ]
     },
     "execution_count": 17,
     "metadata": {},
     "output_type": "execute_result"
    }
   ],
   "source": [
    "multiply([1, 2, 3, -4])"
   ]
  },
  {
   "cell_type": "code",
   "execution_count": 22,
   "id": "89507ff9",
   "metadata": {},
   "outputs": [],
   "source": [
    "def palindrome(s):\n",
    "    s = s.replace(' ', '')\n",
    "    return s == s[::-1]"
   ]
  },
  {
   "cell_type": "code",
   "execution_count": 23,
   "id": "9f880170",
   "metadata": {},
   "outputs": [
    {
     "data": {
      "text/plain": [
       "True"
      ]
     },
     "execution_count": 23,
     "metadata": {},
     "output_type": "execute_result"
    }
   ],
   "source": [
    "palindrome('nurses run')"
   ]
  },
  {
   "cell_type": "code",
   "execution_count": 24,
   "id": "54b23034",
   "metadata": {},
   "outputs": [],
   "source": [
    "import string\n",
    "\n",
    "def ispangram(str1, alphabet = string.ascii_lowercase):\n",
    "    \n",
    "    alphaset = set(alphabet)   \n",
    "    print(alphaset)\n",
    "    \n",
    "    str1 = str1.replace(' ','')\n",
    "    str1 = str1.lower()\n",
    "    str1 = set(str1)\n",
    "    \n",
    "    return str1 == alphaset"
   ]
  },
  {
   "cell_type": "code",
   "execution_count": 25,
   "id": "8589e25d",
   "metadata": {},
   "outputs": [
    {
     "name": "stdout",
     "output_type": "stream",
     "text": [
      "{'c', 'w', 'k', 'j', 'u', 'x', 'r', 'g', 'a', 'i', 'b', 'y', 'v', 'h', 'l', 'n', 'z', 'f', 'e', 'q', 'd', 'o', 'p', 'm', 't', 's'}\n"
     ]
    },
    {
     "data": {
      "text/plain": [
       "True"
      ]
     },
     "execution_count": 25,
     "metadata": {},
     "output_type": "execute_result"
    }
   ],
   "source": [
    "ispangram(\"The quick brown fox jumps over the lazy dog\")"
   ]
  },
  {
   "cell_type": "code",
   "execution_count": 26,
   "id": "b88225f4",
   "metadata": {},
   "outputs": [
    {
     "data": {
      "text/plain": [
       "'abcdefghijklmnopqrstuvwxyz'"
      ]
     },
     "execution_count": 26,
     "metadata": {},
     "output_type": "execute_result"
    }
   ],
   "source": [
    "string.ascii_lowercase"
   ]
  },
  {
   "cell_type": "code",
   "execution_count": null,
   "id": "9151e47c",
   "metadata": {},
   "outputs": [],
   "source": []
  }
 ],
 "metadata": {
  "kernelspec": {
   "display_name": "Python 3 (ipykernel)",
   "language": "python",
   "name": "python3"
  },
  "language_info": {
   "codemirror_mode": {
    "name": "ipython",
    "version": 3
   },
   "file_extension": ".py",
   "mimetype": "text/x-python",
   "name": "python",
   "nbconvert_exporter": "python",
   "pygments_lexer": "ipython3",
   "version": "3.9.13"
  }
 },
 "nbformat": 4,
 "nbformat_minor": 5
}

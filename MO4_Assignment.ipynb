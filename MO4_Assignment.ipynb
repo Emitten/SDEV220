{
 "cells": [
  {
   "cell_type": "code",
   "execution_count": null,
   "id": "2bd113bd",
   "metadata": {},
   "outputs": [],
   "source": [
    "#11.1\n",
    "\n",
    "import zoo\n",
    "zoo.hours()"
   ]
  },
  {
   "cell_type": "code",
   "execution_count": null,
   "id": "e7f6bcb3",
   "metadata": {},
   "outputs": [],
   "source": [
    "#11.2\n",
    "\n",
    "import zoo as menagerie\n",
    "menagerie.hours()"
   ]
  },
  {
   "cell_type": "code",
   "execution_count": null,
   "id": "bd540689",
   "metadata": {},
   "outputs": [],
   "source": [
    "#16.8\n",
    "\n",
    "import sqlalchemy\n",
    "conn = sqlalchemy.create_engine(\"sqlite:///books.db\")\n",
    "sql = \"select title from book order by title asc\"\n",
    "rows = conn.execute(sql)\n",
    "for rows in rows:\n",
    "    print(row)"
   ]
  }
 ],
 "metadata": {
  "kernelspec": {
   "display_name": "Python 3 (ipykernel)",
   "language": "python",
   "name": "python3"
  },
  "language_info": {
   "codemirror_mode": {
    "name": "ipython",
    "version": 3
   },
   "file_extension": ".py",
   "mimetype": "text/x-python",
   "name": "python",
   "nbconvert_exporter": "python",
   "pygments_lexer": "ipython3",
   "version": "3.9.13"
  }
 },
 "nbformat": 4,
 "nbformat_minor": 5
}
